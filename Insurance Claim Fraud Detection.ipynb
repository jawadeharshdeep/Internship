{
 "cells": [
  {
   "cell_type": "code",
   "execution_count": 1,
   "id": "bdfb4d4c",
   "metadata": {},
   "outputs": [
    {
     "name": "stdout",
     "output_type": "stream",
     "text": [
      "Collecting joypy\n",
      "  Downloading joypy-0.2.6-py2.py3-none-any.whl (8.6 kB)\n",
      "Requirement already satisfied: numpy>=1.16.5 in c:\\users\\harsh\\anaconda3\\lib\\site-packages (from joypy) (1.21.5)\n",
      "Requirement already satisfied: pandas>=0.20.0 in c:\\users\\harsh\\anaconda3\\lib\\site-packages (from joypy) (1.4.4)\n",
      "Requirement already satisfied: matplotlib in c:\\users\\harsh\\anaconda3\\lib\\site-packages (from joypy) (3.5.2)\n",
      "Requirement already satisfied: scipy>=0.11.0 in c:\\users\\harsh\\anaconda3\\lib\\site-packages (from joypy) (1.9.1)\n",
      "Requirement already satisfied: pytz>=2020.1 in c:\\users\\harsh\\anaconda3\\lib\\site-packages (from pandas>=0.20.0->joypy) (2022.1)\n",
      "Requirement already satisfied: python-dateutil>=2.8.1 in c:\\users\\harsh\\anaconda3\\lib\\site-packages (from pandas>=0.20.0->joypy) (2.8.2)\n",
      "Requirement already satisfied: pillow>=6.2.0 in c:\\users\\harsh\\anaconda3\\lib\\site-packages (from matplotlib->joypy) (9.2.0)\n",
      "Requirement already satisfied: cycler>=0.10 in c:\\users\\harsh\\anaconda3\\lib\\site-packages (from matplotlib->joypy) (0.11.0)\n",
      "Requirement already satisfied: pyparsing>=2.2.1 in c:\\users\\harsh\\anaconda3\\lib\\site-packages (from matplotlib->joypy) (3.0.9)\n",
      "Requirement already satisfied: packaging>=20.0 in c:\\users\\harsh\\anaconda3\\lib\\site-packages (from matplotlib->joypy) (21.3)\n",
      "Requirement already satisfied: kiwisolver>=1.0.1 in c:\\users\\harsh\\anaconda3\\lib\\site-packages (from matplotlib->joypy) (1.4.2)\n",
      "Requirement already satisfied: fonttools>=4.22.0 in c:\\users\\harsh\\anaconda3\\lib\\site-packages (from matplotlib->joypy) (4.25.0)\n",
      "Requirement already satisfied: six>=1.5 in c:\\users\\harsh\\anaconda3\\lib\\site-packages (from python-dateutil>=2.8.1->pandas>=0.20.0->joypy) (1.16.0)\n",
      "Installing collected packages: joypy\n",
      "Successfully installed joypy-0.2.6\n"
     ]
    }
   ],
   "source": [
    "!pip install joypy"
   ]
  },
  {
   "cell_type": "code",
   "execution_count": 2,
   "id": "f440d892",
   "metadata": {},
   "outputs": [
    {
     "name": "stdout",
     "output_type": "stream",
     "text": [
      "Requirement already satisfied: bubbly in c:\\users\\harsh\\anaconda3\\lib\\site-packages (1.0.2)\n",
      "Requirement already satisfied: pandas in c:\\users\\harsh\\anaconda3\\lib\\site-packages (from bubbly) (1.4.4)\n",
      "Requirement already satisfied: plotly in c:\\users\\harsh\\anaconda3\\lib\\site-packages (from bubbly) (5.9.0)\n",
      "Requirement already satisfied: numpy>=1.18.5 in c:\\users\\harsh\\anaconda3\\lib\\site-packages (from pandas->bubbly) (1.21.5)\n",
      "Requirement already satisfied: python-dateutil>=2.8.1 in c:\\users\\harsh\\anaconda3\\lib\\site-packages (from pandas->bubbly) (2.8.2)\n",
      "Requirement already satisfied: pytz>=2020.1 in c:\\users\\harsh\\anaconda3\\lib\\site-packages (from pandas->bubbly) (2022.1)\n",
      "Requirement already satisfied: tenacity>=6.2.0 in c:\\users\\harsh\\anaconda3\\lib\\site-packages (from plotly->bubbly) (8.0.1)\n",
      "Requirement already satisfied: six>=1.5 in c:\\users\\harsh\\anaconda3\\lib\\site-packages (from python-dateutil>=2.8.1->pandas->bubbly) (1.16.0)\n"
     ]
    }
   ],
   "source": [
    "!pip install bubbly"
   ]
  },
  {
   "cell_type": "code",
   "execution_count": 5,
   "id": "3afc1208",
   "metadata": {},
   "outputs": [
    {
     "data": {
      "text/html": [
       "        <script type=\"text/javascript\">\n",
       "        window.PlotlyConfig = {MathJaxConfig: 'local'};\n",
       "        if (window.MathJax && window.MathJax.Hub && window.MathJax.Hub.Config) {window.MathJax.Hub.Config({SVG: {font: \"STIX-Web\"}});}\n",
       "        if (typeof require !== 'undefined') {\n",
       "        require.undef(\"plotly\");\n",
       "        requirejs.config({\n",
       "            paths: {\n",
       "                'plotly': ['https://cdn.plot.ly/plotly-2.12.1.min']\n",
       "            }\n",
       "        });\n",
       "        require(['plotly'], function(Plotly) {\n",
       "            window._Plotly = Plotly;\n",
       "        });\n",
       "        }\n",
       "        </script>\n",
       "        "
      ]
     },
     "metadata": {},
     "output_type": "display_data"
    }
   ],
   "source": [
    "import warnings\n",
    "warnings.filterwarnings('ignore')\n",
    "\n",
    "# for some basic operations\n",
    "import numpy as np \n",
    "import pandas as pd \n",
    "import joypy\n",
    "\n",
    "# for visualizations\n",
    "import matplotlib.pyplot as plt\n",
    "import seaborn as sns\n",
    "from pandas import plotting\n",
    "from pandas.plotting import parallel_coordinates\n",
    "\n",
    "# for interactive visualizations\n",
    "import plotly\n",
    "import plotly.offline as py\n",
    "from plotly.offline import init_notebook_mode, iplot\n",
    "import plotly.graph_objs as go\n",
    "from plotly import tools\n",
    "init_notebook_mode(connected = True)\n",
    "import plotly.figure_factory as ff\n",
    "\n",
    "# for animated visualizations\n",
    "from bubbly.bubbly import bubbleplot\n",
    "\n",
    "\n"
   ]
  },
  {
   "cell_type": "code",
   "execution_count": null,
   "id": "7b9e3f2e",
   "metadata": {},
   "outputs": [],
   "source": []
  }
 ],
 "metadata": {
  "kernelspec": {
   "display_name": "Python 3 (ipykernel)",
   "language": "python",
   "name": "python3"
  },
  "language_info": {
   "codemirror_mode": {
    "name": "ipython",
    "version": 3
   },
   "file_extension": ".py",
   "mimetype": "text/x-python",
   "name": "python",
   "nbconvert_exporter": "python",
   "pygments_lexer": "ipython3",
   "version": "3.9.13"
  }
 },
 "nbformat": 4,
 "nbformat_minor": 5
}
